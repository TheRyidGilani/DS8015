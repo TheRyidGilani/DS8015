{
  "nbformat": 4,
  "nbformat_minor": 0,
  "metadata": {
    "@webio": {
      "lastCommId": null,
      "lastKernelId": null
    },
    "colab": {
      "provenance": [],
      "include_colab_link": true
    },
    "kernelspec": {
      "display_name": "Python 3",
      "language": "python",
      "name": "python3"
    },
    "language_info": {
      "codemirror_mode": {
        "name": "ipython",
        "version": 3
      },
      "file_extension": ".py",
      "mimetype": "text/x-python",
      "name": "python",
      "nbconvert_exporter": "python",
      "pygments_lexer": "ipython3",
      "version": "3.5.0"
    }
  },
  "cells": [
    {
      "cell_type": "markdown",
      "metadata": {
        "id": "view-in-github",
        "colab_type": "text"
      },
      "source": [
        "<a href=\"https://colab.research.google.com/github/TheRyidGilani/DS8015/blob/main/Lab4_questions.ipynb\" target=\"_parent\"><img src=\"https://colab.research.google.com/assets/colab-badge.svg\" alt=\"Open In Colab\"/></a>"
      ]
    },
    {
      "cell_type": "markdown",
      "metadata": {
        "id": "ZQ-tHjsZ7uCa"
      },
      "source": [
        "# Lab 4 Questions"
      ]
    },
    {
      "cell_type": "markdown",
      "metadata": {
        "id": "c63CQzEzu2MM"
      },
      "source": [
        "$\\color{red}{\\text{RULES:}}$\n",
        "\n",
        "1) Work individually!\n",
        "\n",
        "2) You can use the lecture notes (that are posted on D2L), and other materials (e.g. books, web searches).\n"
      ]
    },
    {
      "cell_type": "markdown",
      "metadata": {
        "id": "yp8XFkJfu2MP"
      },
      "source": [
        "### Question 1"
      ]
    },
    {
      "cell_type": "markdown",
      "metadata": {
        "id": "RVkjNRRvu2MP"
      },
      "source": [
        "Define the following functions as lambdas, and assign them to variables:\n",
        "\n",
        "1. Take one parameter; return its square\n",
        "\n",
        "2. Take two parameters; return the square root of the sums of their squares\n",
        "\n",
        "3. Take any number of parameters; return their average\n",
        "\n",
        "4. Take a string parameter; return a string which contains the unique letters in the input string (in any order)"
      ]
    },
    {
      "cell_type": "code",
      "metadata": {
        "id": "hXAq4kUgu2MP",
        "colab": {
          "base_uri": "https://localhost:8080/"
        },
        "outputId": "e413c7bb-d66b-4150-9da2-470a1261bb55"
      },
      "source": [
        "import math\n",
        "\n",
        "a = lambda x : x**2\n",
        "print(a(2))"
      ],
      "execution_count": 1,
      "outputs": [
        {
          "output_type": "stream",
          "name": "stdout",
          "text": [
            "4\n"
          ]
        }
      ]
    },
    {
      "cell_type": "code",
      "metadata": {
        "id": "UY54Z96Pu2MP",
        "colab": {
          "base_uri": "https://localhost:8080/"
        },
        "outputId": "0c62a878-b182-4b4c-cdda-cbd17e5a9fba"
      },
      "source": [
        "b = lambda x,y : (a(x) + a(y))**0.5\n",
        "print(b(2,3))"
      ],
      "execution_count": 3,
      "outputs": [
        {
          "output_type": "stream",
          "name": "stdout",
          "text": [
            "3.605551275463989\n"
          ]
        }
      ]
    },
    {
      "cell_type": "code",
      "metadata": {
        "id": "_h6uaa7Iu2MQ",
        "colab": {
          "base_uri": "https://localhost:8080/"
        },
        "outputId": "f9fd9ca9-2ceb-4a9e-994b-446aeb327daa"
      },
      "source": [
        "c = lambda *args: sum(args)/len(args)\n",
        "print(c(2,4,5))"
      ],
      "execution_count": 5,
      "outputs": [
        {
          "output_type": "stream",
          "name": "stdout",
          "text": [
            "3.6666666666666665\n"
          ]
        }
      ]
    },
    {
      "cell_type": "code",
      "metadata": {
        "id": "FBgZGvLuu2MQ",
        "colab": {
          "base_uri": "https://localhost:8080/"
        },
        "outputId": "04610f82-c7d0-418f-c1d3-cf4374b502ed"
      },
      "source": [
        "d = lambda string: \"\".join(set(string))\n",
        "print(d('hello'))"
      ],
      "execution_count": 7,
      "outputs": [
        {
          "output_type": "stream",
          "name": "stdout",
          "text": [
            "hleo\n"
          ]
        }
      ]
    },
    {
      "cell_type": "markdown",
      "metadata": {
        "id": "TJXuNG7bvtiO"
      },
      "source": [
        "### Question 2\n",
        "Write a function which takes a string which contains two words separated by any amount and type of whitespace, and returns a string in which the words are swapped around and the whitespace is preserved. Hint: use regular expressions where \\s detects the whitespaces in a string.\n",
        "\n",
        "Example: given \"$\\text{Hello$\\hspace{1cm}$ World}$\", return \"$\\text{World$\\hspace{1cm}$ Hello}$\""
      ]
    },
    {
      "cell_type": "code",
      "metadata": {
        "id": "26RNKp6evw_-",
        "colab": {
          "base_uri": "https://localhost:8080/"
        },
        "outputId": "32c23bec-b756-4942-d4b5-83332ec6e07c"
      },
      "source": [
        "import re\n",
        "\n",
        "def swap_words(my_string):\n",
        "    # Search for one or more whitespace characters\n",
        "    m = re.search(r\"(\\s+)\", my_string)\n",
        "\n",
        "    # If no whitespace is found, return the original string\n",
        "    if not m:\n",
        "        return my_string\n",
        "\n",
        "    # Extract the whitespace\n",
        "    str_whitespace = m.group(0)\n",
        "\n",
        "    # Split the string using the extracted whitespace\n",
        "    split_string = my_string.split(str_whitespace)\n",
        "\n",
        "    # Swap the first two elements and join them with the original whitespace\n",
        "    if len(split_string) >= 2:\n",
        "        new_string = split_string[1] + str_whitespace + split_string[0]\n",
        "        return new_string\n",
        "    else:\n",
        "        return my_string\n",
        "\n",
        "# Example usage\n",
        "print(swap_words(\"Hello     World\"))\n"
      ],
      "execution_count": 8,
      "outputs": [
        {
          "output_type": "stream",
          "name": "stdout",
          "text": [
            "World     Hello\n"
          ]
        }
      ]
    },
    {
      "cell_type": "markdown",
      "metadata": {
        "id": "hCUB5UJ2u2MQ"
      },
      "source": [
        "### Question 3\n",
        "Write a function called singleLetterCount. This function takes in two parameters (two strings). The first parameter should be a word and second should be a letter. The function returns the number of times that letter appears in the word. The function should be case insensitive (does not matter if the input is lowercase or uppercase). If the letter is not found in the word, the function should return 0."
      ]
    },
    {
      "cell_type": "code",
      "metadata": {
        "id": "FkyKCbfVxJKZ",
        "colab": {
          "base_uri": "https://localhost:8080/"
        },
        "outputId": "1cf01080-5c0a-4dea-e04d-44ea30c75f3d"
      },
      "source": [
        "def singleLetterCount(string, letter):\n",
        "    string = string.lower()\n",
        "    letter = letter.lower()\n",
        "\n",
        "    # Count the occurrences of the letter in the string\n",
        "    return string.count(letter)\n",
        "\n",
        "# Test the function\n",
        "singleLetterCount('word', 'W')\n",
        "\n"
      ],
      "execution_count": 25,
      "outputs": [
        {
          "output_type": "execute_result",
          "data": {
            "text/plain": [
              "1"
            ]
          },
          "metadata": {},
          "execution_count": 25
        }
      ]
    }
  ]
}