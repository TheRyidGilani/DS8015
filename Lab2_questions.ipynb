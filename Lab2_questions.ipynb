{
  "nbformat": 4,
  "nbformat_minor": 0,
  "metadata": {
    "@webio": {
      "lastCommId": null,
      "lastKernelId": null
    },
    "colab": {
      "provenance": [],
      "include_colab_link": true
    },
    "kernelspec": {
      "display_name": "Python 3",
      "language": "python",
      "name": "python3"
    },
    "language_info": {
      "codemirror_mode": {
        "name": "ipython",
        "version": 3
      },
      "file_extension": ".py",
      "mimetype": "text/x-python",
      "name": "python",
      "nbconvert_exporter": "python",
      "pygments_lexer": "ipython3",
      "version": "3.5.0"
    }
  },
  "cells": [
    {
      "cell_type": "markdown",
      "metadata": {
        "id": "view-in-github",
        "colab_type": "text"
      },
      "source": [
        "<a href=\"https://colab.research.google.com/github/TheRyidGilani/DS8015/blob/main/Lab2_questions.ipynb\" target=\"_parent\"><img src=\"https://colab.research.google.com/assets/colab-badge.svg\" alt=\"Open In Colab\"/></a>"
      ]
    },
    {
      "cell_type": "markdown",
      "metadata": {
        "id": "ZQ-tHjsZ7uCa"
      },
      "source": [
        "# Lab 2 Exercises"
      ]
    },
    {
      "cell_type": "markdown",
      "metadata": {
        "id": "hBo8IlASEJ9r"
      },
      "source": [
        "$\\color{red}{\\text{RULES:}}$\n",
        "\n",
        "1) Work individually!\n",
        "\n",
        "2) You can use the lecture notes (that are posted on D2L) and all other materials (e.g. books, web searches).\n",
        "\n"
      ]
    },
    {
      "cell_type": "markdown",
      "metadata": {
        "id": "miOhrnrV7uCc"
      },
      "source": [
        "### Question 1"
      ]
    },
    {
      "cell_type": "markdown",
      "metadata": {
        "id": "t9z_3Lgz7uCe"
      },
      "source": [
        "Provide a python program that takes 2 digits, (e.g. A,B) as input and returns a 2-dimensional array. The element value in the i-th row and j-th column of the array should be $i*j$.\n",
        "\n",
        "Note: $i=0,1,...,A-1;\\ j=0,1,...,B-1.$\n",
        "\n",
        "Example: Assume following inputs are given to the program:\n",
        "\n",
        "$3,5$\n",
        "\n",
        "Then, the output should be:\n",
        "\n",
        "$[[0, 0, 0, 0, 0], [0, 1, 2, 3, 4], [0, 2, 4, 6, 8]]$"
      ]
    },
    {
      "cell_type": "code",
      "metadata": {
        "id": "YtXXEMOA7uCg",
        "colab": {
          "base_uri": "https://localhost:8080/"
        },
        "outputId": "e6a82be9-5520-4ae1-8a01-040c3a2a663d"
      },
      "source": [
        "user_input = input(\"Enter two digits, seperated by commas: \")\n",
        "\n",
        "dimensions = []\n",
        "\n",
        "for x in user_input.split(','):\n",
        "  x = int(x)\n",
        "  dimensions.append(x)\n",
        "\n",
        "number_of_rows = dimensions[0]\n",
        "number_of_col = dimensions[1]\n",
        "\n",
        "output_list = []\n",
        "\n",
        "for row in range(number_of_rows):\n",
        "  current_row = []\n",
        "\n",
        "  for column in range(number_of_col):\n",
        "    current_row.append(row * column)\n",
        "\n",
        "  output_list.append(current_row)\n",
        "\n",
        "print(output_list)\n",
        "\n",
        "\n"
      ],
      "execution_count": 14,
      "outputs": [
        {
          "output_type": "stream",
          "name": "stdout",
          "text": [
            "Enter two digits, seperated by commas: 3,5\n",
            "[[0, 0, 0, 0, 0], [0, 1, 2, 3, 4], [0, 2, 4, 6, 8]]\n"
          ]
        }
      ]
    },
    {
      "cell_type": "markdown",
      "metadata": {
        "id": "yK-nfqXfEJ9v"
      },
      "source": [
        "### Question 2"
      ]
    },
    {
      "cell_type": "markdown",
      "metadata": {
        "id": "IkK4nTXiEJ9v"
      },
      "source": [
        "Given a dictionary, provide a python program that gets all the values from the dictionary and add it in a list but does not  add duplicates."
      ]
    },
    {
      "cell_type": "code",
      "metadata": {
        "id": "PPa61r-2EJ9w",
        "colab": {
          "base_uri": "https://localhost:8080/"
        },
        "outputId": "d42d2a7f-02dc-4911-9d97-5333b0f88cee"
      },
      "source": [
        "ages  ={'john':47, 'faye':52, 'mark':47, 'april':44, 'may':52, 'jane':53, 'july':54, 'jim':44, 'sam':54}\n",
        "\n",
        "age_list = []\n",
        "\n",
        "for item in ages.values():\n",
        "\n",
        "  if item not in age_list:\n",
        "    age_list.append(item)\n",
        "\n",
        "print(age_list)\n",
        "\n"
      ],
      "execution_count": 10,
      "outputs": [
        {
          "output_type": "stream",
          "name": "stdout",
          "text": [
            "[47, 52, 44, 53, 54]\n"
          ]
        }
      ]
    },
    {
      "cell_type": "markdown",
      "metadata": {
        "id": "PucSRqlCEJ9w"
      },
      "source": [
        "### Question 3"
      ]
    },
    {
      "cell_type": "markdown",
      "metadata": {
        "id": "5Xv2Bqe1EJ9x"
      },
      "source": [
        "Provide a function which can generate and print a tuple where the printed values are squares of numbers between provided two (integer) argument values (both included).\n",
        "\n",
        "E.g. output of printTuple(1,10) would be (1, 4, 9, 16, 25, 36, 49, 64, 81,100)\n",
        "\n",
        "Hint:\n",
        "\n",
        "Use tuple() to get a tuple from a list."
      ]
    },
    {
      "cell_type": "code",
      "metadata": {
        "id": "L1_UjE0vEJ9y",
        "colab": {
          "base_uri": "https://localhost:8080/"
        },
        "outputId": "f6962c2c-7c18-4bca-8480-9118711941e7"
      },
      "source": [
        "def printTuple(giLB, giUB):\n",
        "    my_list = []\n",
        "\n",
        "    for number in range(giLB,giUB+1):\n",
        "      number = number**2\n",
        "      my_list.append(number)\n",
        "    print(tuple(my_list))\n",
        "\n",
        "printTuple(1,10)"
      ],
      "execution_count": 13,
      "outputs": [
        {
          "output_type": "stream",
          "name": "stdout",
          "text": [
            "(1, 4, 9, 16, 25, 36, 49, 64, 81, 100)\n"
          ]
        }
      ]
    },
    {
      "cell_type": "markdown",
      "metadata": {
        "id": "raAFHc68EJ9y"
      },
      "source": [
        "### Question 4 (Bonus)"
      ]
    },
    {
      "cell_type": "markdown",
      "metadata": {
        "id": "qE6qCYY6EJ91"
      },
      "source": [
        "A robot moves in a plane starting from the original point (0,0). The robot can move toward UP, DOWN, LEFT and RIGHT with a given steps. The trace of robot movement is shown as the following list:\n",
        "\n",
        "my_moves = [\"UP 5\", \"DOWN 3\", \"LEFT 3\", \"RIGHT 2\"]\n",
        "\n",
        "Another trace can be\n",
        "\n",
        "my_moves = [\"LEFT 2\", \"UP 3\", \"DOWN 3\", \"LEFT 2\", \"DOWN 5\"]\n",
        "\n",
        "The numbers after the direction are steps. Provide a function with name get_distance_traveled that takes the list of movements as an argument and returns the distance from current position after a sequence of movements.\n",
        "\n",
        "Hint: print(get_distance_traveled(my_moves)) prints out 2.24"
      ]
    },
    {
      "cell_type": "code",
      "metadata": {
        "id": "eh6PHNQ6EJ92",
        "colab": {
          "base_uri": "https://localhost:8080/"
        },
        "outputId": "a5ed0f70-524c-46fa-c835-745f3cf8d908"
      },
      "source": [
        "import math\n",
        "\n",
        "def get_distance_travelled(movements):\n",
        "\n",
        "  origin = [0,0]\n",
        "\n",
        "  for i in movements:\n",
        "    moves = i.split(\" \")\n",
        "    direction = moves[0]\n",
        "    steps = int(moves[1])\n",
        "\n",
        "    if direction == 'RIGHT':\n",
        "      origin[0] += steps\n",
        "\n",
        "    elif direction == 'LEFT':\n",
        "      origin[0] -= steps\n",
        "\n",
        "    elif direction == 'UP':\n",
        "      origin[1] += steps\n",
        "\n",
        "    elif direction == 'DOWN':\n",
        "       origin[1] -= steps\n",
        "\n",
        "  print(round(math.sqrt(origin[1]**2 + origin[0]**2),2))\n",
        "\n",
        "my_moves = [\"UP 5\", \"DOWN 3\", \"LEFT 3\", \"RIGHT 2\"]\n",
        "get_distance_travelled(my_moves)\n"
      ],
      "execution_count": 16,
      "outputs": [
        {
          "output_type": "stream",
          "name": "stdout",
          "text": [
            "2.24\n"
          ]
        }
      ]
    }
  ]
}