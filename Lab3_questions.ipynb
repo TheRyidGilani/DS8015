{
  "cells": [
    {
      "cell_type": "markdown",
      "metadata": {
        "id": "view-in-github",
        "colab_type": "text"
      },
      "source": [
        "<a href=\"https://colab.research.google.com/github/TheRyidGilani/DS8015/blob/main/Lab3_questions.ipynb\" target=\"_parent\"><img src=\"https://colab.research.google.com/assets/colab-badge.svg\" alt=\"Open In Colab\"/></a>"
      ]
    },
    {
      "cell_type": "markdown",
      "metadata": {
        "id": "ZQ-tHjsZ7uCa"
      },
      "source": [
        "# Lab 3 Exercises"
      ]
    },
    {
      "cell_type": "markdown",
      "metadata": {
        "id": "Zkk2MQhyOmk4"
      },
      "source": [
        "$\\color{red}{\\text{RULES:}}$\n",
        "\n",
        "1) Work individually!\n",
        "\n",
        "2) You can use the lecture notes (that are posted on D2L), and other materials (e.g. books, web searches).\n",
        "\n"
      ]
    },
    {
      "cell_type": "markdown",
      "metadata": {
        "id": "miOhrnrV7uCc"
      },
      "source": [
        "### Question 1"
      ]
    },
    {
      "cell_type": "markdown",
      "metadata": {
        "id": "t9z_3Lgz7uCe"
      },
      "source": [
        "Write a python function that can accept two strings as input and print the string with maximum length in console. If the length of the two strings are identical, then function should print all strings line by line.\n",
        "\n",
        "Hints:\n",
        "\n",
        "Length of a string can be obtained by len() function"
      ]
    },
    {
      "cell_type": "code",
      "execution_count": 11,
      "metadata": {
        "id": "YtXXEMOA7uCg",
        "colab": {
          "base_uri": "https://localhost:8080/"
        },
        "outputId": "cf7af42e-111c-42ae-bbbf-52f233fcdbf1"
      },
      "outputs": [
        {
          "output_type": "stream",
          "name": "stdout",
          "text": [
            "Enter the first string: Hi\n",
            "Enter the second string: Hello\n",
            "The longer string is:  Hello\n"
          ]
        }
      ],
      "source": [
        "def max_length(string1,string2):\n",
        "\n",
        "  if len(string1) > len(string2):\n",
        "    print(\"The longer string is: \",string1)\n",
        "\n",
        "  elif len(string1) == len(string2):\n",
        "    print(string1)\n",
        "    print(string2)\n",
        "  else:\n",
        "    print(\"The longer string is: \", string2)\n",
        "\n",
        "string1 = input(\"Enter the first string: \")\n",
        "string2 = input(\"Enter the second string: \")\n",
        "\n",
        "max_length(string1,string2)"
      ]
    },
    {
      "cell_type": "markdown",
      "metadata": {
        "id": "udYlFKk9Omk6"
      },
      "source": [
        "### Question 2"
      ]
    },
    {
      "cell_type": "markdown",
      "metadata": {
        "id": "bpWzhuloOmk7"
      },
      "source": [
        "Write a python function that can generate a list where the values are square of numbers between 1 and 30 (both included). The function then has to print the first 5 elements in the list.\n",
        "\n",
        "Hints:\n",
        "\n",
        "** operator can be used to get power of a number.\n",
        "\n",
        "range() can be used for loops.\n",
        "\n",
        "append() can be used to add values into a list.\n",
        "\n",
        "[n1:n2] can be used to slice a list"
      ]
    },
    {
      "cell_type": "code",
      "execution_count": 8,
      "metadata": {
        "id": "iS7GEB9hOmk7",
        "colab": {
          "base_uri": "https://localhost:8080/"
        },
        "outputId": "062c7648-8e43-41dd-979b-a9a7113a66e8"
      },
      "outputs": [
        {
          "output_type": "stream",
          "name": "stdout",
          "text": [
            "First 5 elements in the list: [1, 4, 9, 16, 25]\n"
          ]
        }
      ],
      "source": [
        "def list_of_squares():\n",
        "    empty_list = []\n",
        "\n",
        "    for number in range(1, 31):\n",
        "        number_squared = number ** 2\n",
        "        empty_list.append(number_squared)\n",
        "\n",
        "    print(\"First 5 elements in the list:\", empty_list[:5])\n",
        "\n",
        "# Call the function\n",
        "list_of_squares()"
      ]
    },
    {
      "cell_type": "markdown",
      "metadata": {
        "id": "MGl1POECOmk7"
      },
      "source": [
        "### Question 3"
      ]
    },
    {
      "cell_type": "markdown",
      "metadata": {
        "id": "M0sER_TvOmk8"
      },
      "source": [
        "Write a python program that can map() and filter() to make a list whose elements are square of even number in [1,2,3,4,5,6,7,8,9,10,11,12].\n",
        "\n",
        "Hints:\n",
        "\n",
        "map() can be used to generate a list.\n",
        "\n",
        "filter() can be used to filter elements of a list.\n",
        "\n",
        "Use lambda to define anonymous functions."
      ]
    },
    {
      "cell_type": "code",
      "execution_count": 13,
      "metadata": {
        "id": "15B0O7tqOmk8",
        "colab": {
          "base_uri": "https://localhost:8080/"
        },
        "outputId": "81935399-2590-4f99-b6dd-d6a7b3160099"
      },
      "outputs": [
        {
          "output_type": "stream",
          "name": "stdout",
          "text": [
            "Original Numbers: [1, 2, 3, 4, 5, 6, 7, 8, 9, 10, 11, 12]\n",
            "Squares of Even Numbers: [4, 16, 36, 64, 100, 144]\n"
          ]
        }
      ],
      "source": [
        "numbers = [1, 2, 3, 4, 5, 6, 7, 8, 9, 10, 11, 12]\n",
        "\n",
        "# Using map() to square each element\n",
        "squared_numbers = list(map(lambda x: x ** 2, numbers))\n",
        "\n",
        "# Using filter() to keep only even numbers\n",
        "even_squares = list(filter(lambda x: x % 2 == 0, squared_numbers))\n",
        "\n",
        "print(\"Original Numbers:\", numbers)\n",
        "print(\"Squares of Even Numbers:\", even_squares)\n"
      ]
    },
    {
      "cell_type": "markdown",
      "metadata": {
        "id": "d8mE6WmWOmk8"
      },
      "source": [
        "### Question 4 (Bonus)"
      ]
    },
    {
      "cell_type": "markdown",
      "metadata": {
        "id": "-ulPviGXOmk8"
      },
      "source": [
        "Write a python program to compute:\n",
        "\n",
        "f(n)=f(n-1)+100 when n>0\n",
        "\n",
        "and f(0)=0\n",
        "\n",
        "with a given n input by console (n>0).\n",
        "\n",
        "Example:\n",
        "If the following n is given as input to the program:\n",
        "\n",
        "5\n",
        "\n",
        "Then, the output of the program should be:\n",
        "\n",
        "500\n",
        "\n",
        "In case of input data being supplied to the question, it should be assumed to be a console input.\n",
        "\n",
        "Hints:\n",
        "You need to define a recursive function in Python."
      ]
    },
    {
      "cell_type": "code",
      "execution_count": 24,
      "metadata": {
        "id": "pK2sCcqqOmk9",
        "colab": {
          "base_uri": "https://localhost:8080/"
        },
        "outputId": "e01c88a6-786e-4cbc-c543-4883623eab7b"
      },
      "outputs": [
        {
          "output_type": "stream",
          "name": "stdout",
          "text": [
            "Enter a non-negative integer: -4\n",
            "Please enter a non-negative integer.\n",
            "Enter a non-negative integer: 5\n",
            "The result of f(5) is: 500\n"
          ]
        }
      ],
      "source": [
        "def compute_f(n):\n",
        "    if n == 0:\n",
        "        return 0\n",
        "    else:\n",
        "        return compute_f(n - 1) + 100\n",
        "\n",
        "while True:\n",
        "    n = int(input(\"Enter a non-negative integer: \"))\n",
        "    if n < 0:\n",
        "        print(\"Please enter a non-negative integer.\")\n",
        "    else:\n",
        "        result = compute_f(n)\n",
        "        print(f\"The result of f({n}) is: {result}\")\n",
        "        break"
      ]
    }
  ],
  "metadata": {
    "@webio": {
      "lastCommId": null,
      "lastKernelId": null
    },
    "colab": {
      "provenance": [],
      "include_colab_link": true
    },
    "kernelspec": {
      "display_name": "Python 3",
      "language": "python",
      "name": "python3"
    },
    "language_info": {
      "codemirror_mode": {
        "name": "ipython",
        "version": 3
      },
      "file_extension": ".py",
      "mimetype": "text/x-python",
      "name": "python",
      "nbconvert_exporter": "python",
      "pygments_lexer": "ipython3",
      "version": "3.5.0"
    }
  },
  "nbformat": 4,
  "nbformat_minor": 0
}