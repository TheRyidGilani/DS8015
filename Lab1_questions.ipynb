{
  "nbformat": 4,
  "nbformat_minor": 0,
  "metadata": {
    "@webio": {
      "lastCommId": null,
      "lastKernelId": null
    },
    "colab": {
      "provenance": [],
      "include_colab_link": true
    },
    "kernelspec": {
      "display_name": "Python 3",
      "language": "python",
      "name": "python3"
    },
    "language_info": {
      "codemirror_mode": {
        "name": "ipython",
        "version": 3
      },
      "file_extension": ".py",
      "mimetype": "text/x-python",
      "name": "python",
      "nbconvert_exporter": "python",
      "pygments_lexer": "ipython3",
      "version": "3.7.4"
    }
  },
  "cells": [
    {
      "cell_type": "markdown",
      "metadata": {
        "id": "view-in-github",
        "colab_type": "text"
      },
      "source": [
        "<a href=\"https://colab.research.google.com/github/TheRyidGilani/DS8015/blob/main/Lab1_questions.ipynb\" target=\"_parent\"><img src=\"https://colab.research.google.com/assets/colab-badge.svg\" alt=\"Open In Colab\"/></a>"
      ]
    },
    {
      "cell_type": "markdown",
      "metadata": {
        "id": "luWJ8fYv7cis"
      },
      "source": [
        "# Lab1 exercises"
      ]
    },
    {
      "cell_type": "markdown",
      "metadata": {
        "id": "I5GdmKmm7ciu"
      },
      "source": [
        "$\\color{red}{\\text{RULES:}}$\n",
        "\n",
        "1) Work individually!\n",
        "\n",
        "2) You can use the lecture notes.\n",
        "\n"
      ]
    },
    {
      "cell_type": "markdown",
      "metadata": {
        "id": "aF1lFwhL7civ"
      },
      "source": [
        "### Question 1"
      ]
    },
    {
      "cell_type": "markdown",
      "metadata": {
        "id": "xzHz73Q-7cix"
      },
      "source": [
        "Provide python codes that will find all numbers which are divisible by 7 but not multiple of 5,\n",
        "between 1000 and 1200 (both included).\n",
        "Obtained numbers should be printed in a comma-separated sequence on a single line.\n",
        "\n",
        "Hints:\n",
        "range(#begin, #end) method might be useful"
      ]
    },
    {
      "cell_type": "code",
      "metadata": {
        "id": "62xOu9y-7ciy",
        "colab": {
          "base_uri": "https://localhost:8080/"
        },
        "outputId": "5fe395ce-1048-448f-c3c9-6d3af43aa719"
      },
      "source": [
        "# Create for loop that will iterate numbers between 1000 and 1200\n",
        "for number in range(1000,1201):\n",
        "  # Create if statement explaining logic, if number is divisible by 7 and not by 5.\n",
        "  if number % 7 == 0 and number %5 != 0:\n",
        "    # if statement is true, print the numbers in a single line.\n",
        "    print(number, end = '; ')"
      ],
      "execution_count": null,
      "outputs": [
        {
          "output_type": "stream",
          "name": "stdout",
          "text": [
            "1001; 1008; 1022; 1029; 1036; 1043; 1057; 1064; 1071; 1078; 1092; 1099; 1106; 1113; 1127; 1134; 1141; 1148; 1162; 1169; 1176; 1183; 1197; "
          ]
        }
      ]
    },
    {
      "cell_type": "markdown",
      "metadata": {
        "id": "n3fMm6JO7ci2"
      },
      "source": [
        "### Question 2"
      ]
    },
    {
      "cell_type": "markdown",
      "metadata": {
        "id": "2Mew8fgA7ci3"
      },
      "source": [
        "Provide python codes that calculates and prints the value according to the given formula:\n",
        "\n",
        "Q = Square root of [(2 * C * D)/H]\n",
        "\n",
        "Following are the fixed values of C and H:\n",
        "\n",
        "C is 50. H is 30.\n",
        "\n",
        "D is the variable whose values should be input to your program in a comma-separated sequence.\n",
        "\n",
        "Example: Assume the following comma separated sequence is inputed to the program:\n",
        "\n",
        "100,150,180\n",
        "\n",
        "The output should be:\n",
        "\n",
        "18,22,24\n",
        "\n",
        "Hints:\n",
        "If the output received is in decimal form, it should be rounded off to its nearest value (for example, if the output received is 26.0, it should be printed as 26)\n",
        "\n",
        "In case of input data being supplied to the question, it should be assumed to be a console input."
      ]
    },
    {
      "cell_type": "code",
      "source": [
        "# Import the math library\n",
        "import math\n",
        "\n",
        "# Create function for calculating square root\n",
        "def equation(C, D, H):\n",
        "    Q = math.sqrt((2 * C * D) / H)\n",
        "    return int(Q)\n",
        "\n",
        "# Fixed Values\n",
        "C = 50\n",
        "H = 30\n",
        "\n",
        "# Ask the user for input\n",
        "input_string = input(\"Enter three comma-separated values for D: \")\n",
        "\n",
        "# Split the input string into a list of strings\n",
        "values_of_D_str = input_string.split(',')\n",
        "\n",
        "# Convert the list of strings to a list of integers\n",
        "values_of_D = [int(d) for d in values_of_D_str]\n",
        "\n",
        "# Create an empty list\n",
        "result_list = []\n",
        "\n",
        "# Loop through the results for various D values and store them in the list\n",
        "for d in values_of_D:\n",
        "    result = equation(C, d, H)\n",
        "    result_list.append(result)\n",
        "\n",
        "# Convert the list of results to a comma-separated string\n",
        "result_string = ','.join(map(str, result_list))\n",
        "\n",
        "# Print the answers in the desired format\n",
        "print(result_string)\n"
      ],
      "metadata": {
        "id": "4Y7wGU2dztHd",
        "outputId": "b21c05f5-9b4b-41f8-a234-d54941b1433c",
        "colab": {
          "base_uri": "https://localhost:8080/"
        }
      },
      "execution_count": null,
      "outputs": [
        {
          "output_type": "stream",
          "name": "stdout",
          "text": [
            "Enter three comma-separated values for D: 100,150,180\n",
            "18,22,24\n"
          ]
        }
      ]
    },
    {
      "cell_type": "markdown",
      "metadata": {
        "id": "jdbH5CBs7ci8"
      },
      "source": [
        "### Question 3"
      ]
    },
    {
      "cell_type": "markdown",
      "metadata": {
        "id": "ZhAVsf267ci9"
      },
      "source": [
        "Provide python codes that will find all the numbers between 1000 and 3000 such that each digit of the number is an even number.\n",
        "The obtained numbers should be printed in a comma-separated sequence on a single line.\n",
        "\n",
        "In case of input data being supplied to the question, it should be assumed to be a console input."
      ]
    },
    {
      "cell_type": "code",
      "metadata": {
        "id": "F5inedMz7ci-"
      },
      "source": [
        "even_numbers= []\n",
        "\n",
        "for number in range(1000,3001):\n",
        "  if number %2 == 0:\n",
        "    even_numbers.append(number)\n",
        "\n",
        "even_numbers_list = ','.join(map(str,even_numbers))\n",
        "print(even_numbers_list)"
      ],
      "execution_count": null,
      "outputs": []
    },
    {
      "cell_type": "markdown",
      "metadata": {
        "id": "wVcMRNN_7cjB"
      },
      "source": [
        "### Question 4"
      ]
    },
    {
      "cell_type": "markdown",
      "metadata": {
        "id": "VOI5Mfpl7cjC"
      },
      "source": [
        "Provide python codes that accepts a string from console and print the characters that have even indexes.\n",
        "\n",
        "Example:\n",
        "If the following string is given as input to the program:\n",
        "\n",
        "H0e1l4l2o8w9o9r8l9d\n",
        "\n",
        "Then, the output should be:\n",
        "\n",
        "Helloworld\n",
        "\n",
        "Hints:\n",
        "Use list[::2] to iterate a list by step 2."
      ]
    },
    {
      "cell_type": "code",
      "metadata": {
        "id": "tsOMVy1y7cjE",
        "colab": {
          "base_uri": "https://localhost:8080/"
        },
        "outputId": "5c23c750-440e-4772-803a-de4a0371bf7e"
      },
      "source": [
        "# Obtain input from user\n",
        "Input = input(\"Enter a string that only has even indexes. Ex: H1e2l3l4o\")\n",
        "Input = Input[::2]\n",
        "print(Input)"
      ],
      "execution_count": 1,
      "outputs": [
        {
          "output_type": "stream",
          "name": "stdout",
          "text": [
            "Enter a string that only has even indexes. Ex: H1e2l3l4oH1e2l3l4o5w6o7r8l9d\n",
            "Helloworld\n"
          ]
        }
      ]
    }
  ]
}