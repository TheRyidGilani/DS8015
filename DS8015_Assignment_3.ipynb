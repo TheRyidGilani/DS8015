{
  "nbformat": 4,
  "nbformat_minor": 0,
  "metadata": {
    "colab": {
      "provenance": [],
      "authorship_tag": "ABX9TyP402yRWj+6F1+zFGDaNLKr",
      "include_colab_link": true
    },
    "kernelspec": {
      "name": "python3",
      "display_name": "Python 3"
    },
    "language_info": {
      "name": "python"
    }
  },
  "cells": [
    {
      "cell_type": "markdown",
      "metadata": {
        "id": "view-in-github",
        "colab_type": "text"
      },
      "source": [
        "<a href=\"https://colab.research.google.com/github/TheRyidGilani/DS8015/blob/main/DS8015_Assignment_3.ipynb\" target=\"_parent\"><img src=\"https://colab.research.google.com/assets/colab-badge.svg\" alt=\"Open In Colab\"/></a>"
      ]
    },
    {
      "cell_type": "markdown",
      "source": [
        "# **DS8015 Assignment 3**"
      ],
      "metadata": {
        "id": "u5aS5WKVbOes"
      }
    },
    {
      "cell_type": "markdown",
      "source": [
        "##**Number 1**"
      ],
      "metadata": {
        "id": "B_Xoxb8Oddw5"
      }
    },
    {
      "cell_type": "markdown",
      "source": [
        "**Read the data from “Data_User_Modeling_Dataset.csv” file and apply the following operations:**\n"
      ],
      "metadata": {
        "id": "znOne61TbN57"
      }
    },
    {
      "cell_type": "code",
      "execution_count": null,
      "metadata": {
        "id": "SAVkTSb9aoMA"
      },
      "outputs": [],
      "source": [
        "import pandas as pd\n",
        "\n",
        "# Read the data\n",
        "data = pd.read_csv(\"/content/Data_User_Modeling_Dataset.csv\")"
      ]
    },
    {
      "cell_type": "markdown",
      "source": [
        "**a. (2 points) Determine UNS variable as a categorical variable and then convert it to numeric binary\n",
        "values.**"
      ],
      "metadata": {
        "id": "NCe_aXX0b0Dt"
      }
    },
    {
      "cell_type": "code",
      "source": [
        "data.info()"
      ],
      "metadata": {
        "colab": {
          "base_uri": "https://localhost:8080/"
        },
        "id": "pCTHVKXAcKlf",
        "outputId": "9a2b3967-fe57-4212-e8d0-0173089390e6"
      },
      "execution_count": null,
      "outputs": [
        {
          "output_type": "stream",
          "name": "stdout",
          "text": [
            "<class 'pandas.core.frame.DataFrame'>\n",
            "RangeIndex: 403 entries, 0 to 402\n",
            "Data columns (total 6 columns):\n",
            " #   Column  Non-Null Count  Dtype  \n",
            "---  ------  --------------  -----  \n",
            " 0   STG     403 non-null    float64\n",
            " 1   SCG     403 non-null    float64\n",
            " 2   STR     403 non-null    float64\n",
            " 3   LPR     403 non-null    float64\n",
            " 4   PEG     403 non-null    float64\n",
            " 5   UNS     403 non-null    object \n",
            "dtypes: float64(5), object(1)\n",
            "memory usage: 19.0+ KB\n"
          ]
        }
      ]
    },
    {
      "cell_type": "code",
      "source": [
        "# Check unique types of UNS variable\n",
        "unique_values = data['UNS'].unique()\n",
        "print(\"Unique types of UNS variable:\", unique_values)"
      ],
      "metadata": {
        "colab": {
          "base_uri": "https://localhost:8080/"
        },
        "id": "jTzZIX18cyN9",
        "outputId": "558ff809-229a-4455-f984-0d00d8d32244"
      },
      "execution_count": null,
      "outputs": [
        {
          "output_type": "stream",
          "name": "stdout",
          "text": [
            "Unique types of UNS variable: ['Low' 'High']\n"
          ]
        }
      ]
    },
    {
      "cell_type": "markdown",
      "source": [
        "It is determined that UNS is a categorical column with variables \"Low\" and \"High\", we can convert these variables to 0 and 1."
      ],
      "metadata": {
        "id": "oUlo1_mMcS5Q"
      }
    },
    {
      "cell_type": "code",
      "source": [
        "# Convert UNS variable to binary numeric values\n",
        "data['UNS'] = data['UNS'].map({'Low': 0, 'High': 1})\n",
        "\n",
        "# Check unique types of UNS variable\n",
        "unique_values = data['UNS'].unique()\n",
        "print(\"Unique types of UNS variable:\", unique_values)"
      ],
      "metadata": {
        "colab": {
          "base_uri": "https://localhost:8080/"
        },
        "id": "rQVLZLXqb2r4",
        "outputId": "17e72be9-f801-4389-c592-351391e9109c"
      },
      "execution_count": null,
      "outputs": [
        {
          "output_type": "stream",
          "name": "stdout",
          "text": [
            "Unique types of UNS variable: [0 1]\n"
          ]
        }
      ]
    },
    {
      "cell_type": "markdown",
      "source": [
        "**b. (2 points) Present the descriptive statistics of these variables.**"
      ],
      "metadata": {
        "id": "e4bst-rJb1sR"
      }
    },
    {
      "cell_type": "code",
      "source": [
        "# Present descriptive statistics\n",
        "print(data.describe())"
      ],
      "metadata": {
        "colab": {
          "base_uri": "https://localhost:8080/"
        },
        "id": "EspACAfIcCRx",
        "outputId": "e141d12e-1f12-494d-ef26-b7c126dbf40e"
      },
      "execution_count": null,
      "outputs": [
        {
          "output_type": "stream",
          "name": "stdout",
          "text": [
            "              STG         SCG         STR         LPR         PEG         UNS\n",
            "count  403.000000  403.000000  403.000000  403.000000  403.000000  403.000000\n",
            "mean     0.353141    0.355940    0.457655    0.431342    0.456360    0.555831\n",
            "std      0.212018    0.215531    0.246684    0.257545    0.266775    0.497491\n",
            "min      0.000000    0.000000    0.000000    0.000000    0.000000    0.000000\n",
            "25%      0.200000    0.200000    0.265000    0.250000    0.250000    0.000000\n",
            "50%      0.300000    0.300000    0.440000    0.330000    0.400000    1.000000\n",
            "75%      0.480000    0.510000    0.680000    0.650000    0.660000    1.000000\n",
            "max      0.990000    0.900000    0.950000    0.990000    0.990000    1.000000\n"
          ]
        }
      ]
    },
    {
      "cell_type": "markdown",
      "source": [
        "## **Number 2: Classification Task**"
      ],
      "metadata": {
        "id": "3mTQJ3gVdcw5"
      }
    },
    {
      "cell_type": "markdown",
      "source": [
        " **Classification Task: Using the variables; STG, SCG, STR, LPR, and PEG, predict the\n",
        "knowledge level of the users (UNS).**"
      ],
      "metadata": {
        "id": "KD4oIBRHdSSc"
      }
    },
    {
      "cell_type": "markdown",
      "source": [
        "**a. (2 points) Assign the values of the UNS variable to the variable “labels” and drop this variable\n",
        "from the data frame.**"
      ],
      "metadata": {
        "id": "N4Q-ICCGdwGT"
      }
    },
    {
      "cell_type": "code",
      "source": [
        "# Drop UNS variable and assign it to labels\n",
        "labels_c = data['UNS']\n",
        "data1 = data.drop(columns=['UNS'])"
      ],
      "metadata": {
        "id": "EvnZbTq_dI7X"
      },
      "execution_count": null,
      "outputs": []
    },
    {
      "cell_type": "markdown",
      "source": [
        "**b. (2 points) Split dataset as 80% training and 20% test sets**"
      ],
      "metadata": {
        "id": "oCHrOvqgd2CF"
      }
    },
    {
      "cell_type": "code",
      "source": [
        "from sklearn.model_selection import train_test_split\n",
        "\n",
        "# Split dataset into training and test sets\n",
        "X_train, X_test, y_train, y_test = train_test_split(data1, labels_c, test_size=0.2, random_state=42)"
      ],
      "metadata": {
        "id": "dVuNwe5Yd42s"
      },
      "execution_count": null,
      "outputs": []
    },
    {
      "cell_type": "markdown",
      "source": [
        "**c. (2 points) Apply the decision tree algorithm.**"
      ],
      "metadata": {
        "id": "iV2uqyBLeO_O"
      }
    },
    {
      "cell_type": "code",
      "source": [
        "from sklearn.tree import DecisionTreeClassifier\n",
        "\n",
        "# Apply Decision Tree Algorithm\n",
        "DTCmodel = DecisionTreeClassifier()\n",
        "DTCmodel.fit(X_train, y_train)\n",
        "\n",
        "# Predict\n",
        "y_pred = DTCmodel.predict(X_test)"
      ],
      "metadata": {
        "id": "fDyHt84-eExC"
      },
      "execution_count": null,
      "outputs": []
    },
    {
      "cell_type": "markdown",
      "source": [
        "**d. (2 points) Evaluate your algorithm by presenting accuracy, precision, recall, and\n",
        "F1 score metrics**"
      ],
      "metadata": {
        "id": "jaSN7hbselrL"
      }
    },
    {
      "cell_type": "code",
      "source": [
        "from sklearn.metrics import accuracy_score, precision_score, recall_score, f1_score\n",
        "\n",
        "# Evaluate\n",
        "accuracy = accuracy_score(y_test, y_pred)\n",
        "precision = precision_score(y_test, y_pred)\n",
        "recall = recall_score(y_test, y_pred)\n",
        "f1 = f1_score(y_test, y_pred)\n",
        "\n",
        "print(\"Accuracy:\", accuracy)\n",
        "print(\"Precision:\", precision)\n",
        "print(\"Recall:\", recall)\n",
        "print(\"F1 Score:\", f1)"
      ],
      "metadata": {
        "colab": {
          "base_uri": "https://localhost:8080/"
        },
        "id": "1wZ6ppTneIy4",
        "outputId": "baa68344-ac87-4468-ff0b-907fcfb69017"
      },
      "execution_count": null,
      "outputs": [
        {
          "output_type": "stream",
          "name": "stdout",
          "text": [
            "Accuracy: 0.9629629629629629\n",
            "Precision: 0.9583333333333334\n",
            "Recall: 0.9787234042553191\n",
            "F1 Score: 0.968421052631579\n"
          ]
        }
      ]
    },
    {
      "cell_type": "markdown",
      "source": [
        "## **Number 3: Regression Task**"
      ],
      "metadata": {
        "id": "CfSctyZafFcr"
      }
    },
    {
      "cell_type": "markdown",
      "source": [
        "**Using the variables; STG, SCG, STR, LPR, and UNS, predict the\n",
        "exam performance of the users for goal objects (PEG)**\n",
        "\n",
        "**Read the data from “Data_User_Modeling_Dataset.csv” file and apply the following operations:**"
      ],
      "metadata": {
        "id": "WsBAN_0OfKvP"
      }
    },
    {
      "cell_type": "markdown",
      "source": [
        "**a. (2 points) Assign the values of the PEG variable to the variable “labels” and drop\n",
        "this variable from the data frame.**"
      ],
      "metadata": {
        "id": "kHd7Qiy0fO5g"
      }
    },
    {
      "cell_type": "code",
      "source": [
        "# Assign PEG variable to labels and drop it from the DataFrame\n",
        "labels_r = data['PEG']\n",
        "data2 = data.drop(columns=['PEG'])"
      ],
      "metadata": {
        "id": "MMoQIzAjfKaZ"
      },
      "execution_count": null,
      "outputs": []
    },
    {
      "cell_type": "markdown",
      "source": [
        "**b. (2 points) Split dataset as 80% training and 20% test sets.**"
      ],
      "metadata": {
        "id": "qWWPESLbfiZF"
      }
    },
    {
      "cell_type": "code",
      "source": [
        "from sklearn.model_selection import train_test_split\n",
        "\n",
        "# Split dataset into training and test sets (80% training, 20% test)\n",
        "X_train2, X_test2, y_train2, y_test2 = train_test_split(data2, labels_r, test_size=0.2, random_state=42)"
      ],
      "metadata": {
        "id": "r5uHORz-fmEO"
      },
      "execution_count": null,
      "outputs": []
    },
    {
      "cell_type": "markdown",
      "source": [
        "**c. (2 points) Apply the linear multiple regression algorithm.**"
      ],
      "metadata": {
        "id": "CTU5YB9pfmWp"
      }
    },
    {
      "cell_type": "code",
      "source": [
        "from sklearn.linear_model import LinearRegression\n",
        "\n",
        "# Apply Linear Multiple Regression Algorithm\n",
        "regression_model = LinearRegression()\n",
        "regression_model.fit(X_train2, y_train2)"
      ],
      "metadata": {
        "colab": {
          "base_uri": "https://localhost:8080/",
          "height": 74
        },
        "id": "6zuxbhBvfpS9",
        "outputId": "76d22fb7-5954-4277-ef51-d4afb1ecb73a"
      },
      "execution_count": null,
      "outputs": [
        {
          "output_type": "execute_result",
          "data": {
            "text/plain": [
              "LinearRegression()"
            ],
            "text/html": [
              "<style>#sk-container-id-2 {color: black;background-color: white;}#sk-container-id-2 pre{padding: 0;}#sk-container-id-2 div.sk-toggleable {background-color: white;}#sk-container-id-2 label.sk-toggleable__label {cursor: pointer;display: block;width: 100%;margin-bottom: 0;padding: 0.3em;box-sizing: border-box;text-align: center;}#sk-container-id-2 label.sk-toggleable__label-arrow:before {content: \"▸\";float: left;margin-right: 0.25em;color: #696969;}#sk-container-id-2 label.sk-toggleable__label-arrow:hover:before {color: black;}#sk-container-id-2 div.sk-estimator:hover label.sk-toggleable__label-arrow:before {color: black;}#sk-container-id-2 div.sk-toggleable__content {max-height: 0;max-width: 0;overflow: hidden;text-align: left;background-color: #f0f8ff;}#sk-container-id-2 div.sk-toggleable__content pre {margin: 0.2em;color: black;border-radius: 0.25em;background-color: #f0f8ff;}#sk-container-id-2 input.sk-toggleable__control:checked~div.sk-toggleable__content {max-height: 200px;max-width: 100%;overflow: auto;}#sk-container-id-2 input.sk-toggleable__control:checked~label.sk-toggleable__label-arrow:before {content: \"▾\";}#sk-container-id-2 div.sk-estimator input.sk-toggleable__control:checked~label.sk-toggleable__label {background-color: #d4ebff;}#sk-container-id-2 div.sk-label input.sk-toggleable__control:checked~label.sk-toggleable__label {background-color: #d4ebff;}#sk-container-id-2 input.sk-hidden--visually {border: 0;clip: rect(1px 1px 1px 1px);clip: rect(1px, 1px, 1px, 1px);height: 1px;margin: -1px;overflow: hidden;padding: 0;position: absolute;width: 1px;}#sk-container-id-2 div.sk-estimator {font-family: monospace;background-color: #f0f8ff;border: 1px dotted black;border-radius: 0.25em;box-sizing: border-box;margin-bottom: 0.5em;}#sk-container-id-2 div.sk-estimator:hover {background-color: #d4ebff;}#sk-container-id-2 div.sk-parallel-item::after {content: \"\";width: 100%;border-bottom: 1px solid gray;flex-grow: 1;}#sk-container-id-2 div.sk-label:hover label.sk-toggleable__label {background-color: #d4ebff;}#sk-container-id-2 div.sk-serial::before {content: \"\";position: absolute;border-left: 1px solid gray;box-sizing: border-box;top: 0;bottom: 0;left: 50%;z-index: 0;}#sk-container-id-2 div.sk-serial {display: flex;flex-direction: column;align-items: center;background-color: white;padding-right: 0.2em;padding-left: 0.2em;position: relative;}#sk-container-id-2 div.sk-item {position: relative;z-index: 1;}#sk-container-id-2 div.sk-parallel {display: flex;align-items: stretch;justify-content: center;background-color: white;position: relative;}#sk-container-id-2 div.sk-item::before, #sk-container-id-2 div.sk-parallel-item::before {content: \"\";position: absolute;border-left: 1px solid gray;box-sizing: border-box;top: 0;bottom: 0;left: 50%;z-index: -1;}#sk-container-id-2 div.sk-parallel-item {display: flex;flex-direction: column;z-index: 1;position: relative;background-color: white;}#sk-container-id-2 div.sk-parallel-item:first-child::after {align-self: flex-end;width: 50%;}#sk-container-id-2 div.sk-parallel-item:last-child::after {align-self: flex-start;width: 50%;}#sk-container-id-2 div.sk-parallel-item:only-child::after {width: 0;}#sk-container-id-2 div.sk-dashed-wrapped {border: 1px dashed gray;margin: 0 0.4em 0.5em 0.4em;box-sizing: border-box;padding-bottom: 0.4em;background-color: white;}#sk-container-id-2 div.sk-label label {font-family: monospace;font-weight: bold;display: inline-block;line-height: 1.2em;}#sk-container-id-2 div.sk-label-container {text-align: center;}#sk-container-id-2 div.sk-container {/* jupyter's `normalize.less` sets `[hidden] { display: none; }` but bootstrap.min.css set `[hidden] { display: none !important; }` so we also need the `!important` here to be able to override the default hidden behavior on the sphinx rendered scikit-learn.org. See: https://github.com/scikit-learn/scikit-learn/issues/21755 */display: inline-block !important;position: relative;}#sk-container-id-2 div.sk-text-repr-fallback {display: none;}</style><div id=\"sk-container-id-2\" class=\"sk-top-container\"><div class=\"sk-text-repr-fallback\"><pre>LinearRegression()</pre><b>In a Jupyter environment, please rerun this cell to show the HTML representation or trust the notebook. <br />On GitHub, the HTML representation is unable to render, please try loading this page with nbviewer.org.</b></div><div class=\"sk-container\" hidden><div class=\"sk-item\"><div class=\"sk-estimator sk-toggleable\"><input class=\"sk-toggleable__control sk-hidden--visually\" id=\"sk-estimator-id-2\" type=\"checkbox\" checked><label for=\"sk-estimator-id-2\" class=\"sk-toggleable__label sk-toggleable__label-arrow\">LinearRegression</label><div class=\"sk-toggleable__content\"><pre>LinearRegression()</pre></div></div></div></div></div>"
            ]
          },
          "metadata": {},
          "execution_count": 27
        }
      ]
    },
    {
      "cell_type": "markdown",
      "source": [
        "**d. (2 points) Evaluate your algorithm by presenting MSE, RMSE, and R-square\n",
        "values**"
      ],
      "metadata": {
        "id": "cWuWZii1fpsB"
      }
    },
    {
      "cell_type": "code",
      "source": [
        "from sklearn.metrics import mean_squared_error, r2_score\n",
        "import numpy as np\n",
        "\n",
        "# Predict on test set\n",
        "y_pred2 = regression_model.predict(X_test2)\n",
        "\n",
        "# Calculate Mean Squared Error\n",
        "mse = mean_squared_error(y_test2, y_pred2)\n",
        "\n",
        "# Calculate Root Mean Squared Error\n",
        "rmse = np.sqrt(mse)\n",
        "\n",
        "# Calculate R-square value\n",
        "r2 = r2_score(y_test2, y_pred2)\n",
        "\n",
        "print(\"Mean Squared Error:\", mse)\n",
        "print(\"Root Mean Squared Error:\", rmse)\n",
        "print(\"R-squared:\", r2)"
      ],
      "metadata": {
        "colab": {
          "base_uri": "https://localhost:8080/"
        },
        "id": "hy17tu64fsAT",
        "outputId": "1692fbfc-b430-4fe6-9460-adb12617d47f"
      },
      "execution_count": null,
      "outputs": [
        {
          "output_type": "stream",
          "name": "stdout",
          "text": [
            "Mean Squared Error: 0.018458942300133927\n",
            "Root Mean Squared Error: 0.13586369014616792\n",
            "R-squared: 0.7491402425571544\n"
          ]
        }
      ]
    }
  ]
}